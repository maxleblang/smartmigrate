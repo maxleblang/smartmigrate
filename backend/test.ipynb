{
 "cells": [
  {
   "cell_type": "code",
   "execution_count": 35,
   "id": "01c7e4a7",
   "metadata": {},
   "outputs": [
    {
     "name": "stderr",
     "output_type": "stream",
     "text": [
      "Ignoring wrong pointing object 526 0 (offset 0)\n",
      "Ignoring wrong pointing object 527 0 (offset 0)\n",
      "Ignoring wrong pointing object 527 0 (offset 0)\n"
     ]
    }
   ],
   "source": [
    "from pypdf import PdfReader\n",
    "import json\n",
    "\n",
    "reader = PdfReader(\"i-589.pdf\")\n",
    "fields = reader.get_form_text_fields()"
   ]
  },
  {
   "cell_type": "code",
   "execution_count": 31,
   "id": "1fd4797f",
   "metadata": {},
   "outputs": [
    {
     "name": "stdout",
     "output_type": "stream",
     "text": [
      "Alias mapping (alias -> field name):\n",
      "  '/M' -> form1[0].#subform[0].PartALine9Sex[0]\n",
      "  '/Off' -> form1[0].#subform[12].SuppAL13_CheckBox[1]\n",
      "  '/Yes' -> form1[0].#subform[0].CheckBox4[0]\n",
      "  '/No' -> form1[0].#subform[0].CheckBox4[1]\n",
      "\n",
      "Total: 4 aliases\n"
     ]
    }
   ],
   "source": [
    "# Build alias -> field name mapping (includes all field types: text, checkbox, radio, etc.)\n",
    "all_fields = reader.get_fields()\n",
    "alias_map = {}\n",
    "\n",
    "for fname, field_obj in all_fields.items():\n",
    "    if field_obj.get(\"/V\"):  # Has a value\n",
    "        val = field_obj[\"/V\"]\n",
    "        # Handle both string values and other types\n",
    "        if val is not None:\n",
    "            alias = str(val).strip()\n",
    "            if alias:\n",
    "                alias_map[alias] = fname\n",
    "\n",
    "print(\"Alias mapping (alias -> field name):\")\n",
    "for alias, field_name in alias_map.items():\n",
    "    print(f\"  {alias!r} -> {field_name}\")\n",
    "print(f\"\\nTotal: {len(alias_map)} aliases\")\n",
    "\n",
    "# Export alias_map to JSON file\n",
    "# with open(\"i-589_pdf_field_mapping.json\", \"w\") as f:\n",
    "#     json.dump(alias_map, f, indent=2)\n"
   ]
  },
  {
   "cell_type": "code",
   "execution_count": 40,
   "id": "93317dcd",
   "metadata": {},
   "outputs": [
    {
     "name": "stdout",
     "output_type": "stream",
     "text": [
      "{'form1[0].#subform[0].PtAILine1_ANumber[0]': 'Example_0', 'form1[0].#subform[0].TextField1[0]': 'Example_1', 'form1[0].#subform[0].TextField1[8]': 'Example_2', 'form1[0].#subform[0].PtAILine4_LastName[0]': 'Example_3', 'form1[0].#subform[0].PtAILine5_FirstName[0]': 'Example_4', 'form1[0].#subform[0].PtAILine6_MiddleName[0]': 'Example_5', 'form1[0].#subform[0].TextField1[1]': 'Example_6', 'form1[0].#subform[0].PtAILine8_StreetNumandName[0]': 'Example_7', 'form1[0].#subform[0].PtAILine8_AptNumber[0]': 'Example_8', 'form1[0].#subform[0].TextField1[2]': 'Example_9', 'form1[0].#subform[0].PtAILine8_Zipcode[0]': 'Example_10', 'form1[0].#subform[0].PtAILine8_State[0]': 'Example_11', 'form1[0].#subform[0].PtAILine8_AreaCode[0]': 'Example_12', 'form1[0].#subform[0].PtAILine8_TelephoneNumber[0]': 'Example_13', 'form1[0].#subform[0].PtAILine9_InCareOf[0]': 'Example_14', 'form1[0].#subform[0].PtAILine9_AreaCode[0]': 'Example_15', 'form1[0].#subform[0].PtAILine9_TelephoneNumbe[0]': 'Example_16', 'form1[0].#subform[0].PtAILine9_StreetNumandName[0]': 'Example_17', 'form1[0].#subform[0].PtAILine9_AptNumber[0]': 'Example_18', 'form1[0].#subform[0].PtAILine9_City[0]': 'Example_19', 'form1[0].#subform[0].PtAILine9_State[0]': 'Example_20', 'form1[0].#subform[0].PtAILine9_ZipCode[0]': 'Example_21', 'form1[0].#subform[0].PartALine9Sex[0]': '/M', 'form1[0].#subform[0].Marital[0]': '/S', 'form1[0].#subform[0].DateTimeField1[0]': 'Example_24', 'form1[0].#subform[0].TextField1[4]': 'Example_25', 'form1[0].#subform[0].TextField1[3]': 'Example_26', 'form1[0].#subform[0].TextField1[5]': 'Example_27', 'form1[0].#subform[0].TextField1[6]': 'Example_28', 'form1[0].#subform[0].TextField1[7]': 'Example_29', 'form1[0].#subform[0].CheckBox3[0]': '/A', 'form1[0].#subform[0].DateTimeField6[0]': 'Example_31', 'form1[0].#subform[0].TextField3[0]': 'Example_32', 'form1[0].#subform[0].DateTimeField2[0]': 'Example_33', 'form1[0].#subform[0].TextField4[0]': 'Example_34', 'form1[0].#subform[0].TextField4[1]': 'Example_35', 'form1[0].#subform[0].DateTimeField2[1]': 'Example_36', 'form1[0].#subform[0].DateTimeField3[0]': 'Example_37', 'form1[0].#subform[0].TextField4[2]': 'Example_38', 'form1[0].#subform[0].TextField4[3]': 'Example_39', 'form1[0].#subform[0].DateTimeField4[0]': 'Example_40', 'form1[0].#subform[0].TextField4[4]': 'Example_41', 'form1[0].#subform[0].TextField4[5]': 'Example_42', 'form1[0].#subform[0].TextField5[0]': 'Example_43', 'form1[0].#subform[0].TextField5[1]': 'Example_44', 'form1[0].#subform[0].TextField5[2]': 'Example_45', 'form1[0].#subform[0].DateTimeField2[2]': 'Example_46', 'form1[0].#subform[0].TextField7[0]': 'Example_47', 'form1[0].#subform[0].CheckBox4[0]': '/Yes', 'form1[0].#subform[0].TextField7[1]': 'Example_49'}\n"
     ]
    },
    {
     "ename": "AttributeError",
     "evalue": "'dict' object has no attribute 'get_object'",
     "output_type": "error",
     "traceback": [
      "\u001b[31m---------------------------------------------------------------------------\u001b[39m",
      "\u001b[31mAttributeError\u001b[39m                            Traceback (most recent call last)",
      "\u001b[36mCell\u001b[39m\u001b[36m \u001b[39m\u001b[32mIn[40]\u001b[39m\u001b[32m, line 78\u001b[39m\n\u001b[32m     74\u001b[39m         update_dict[alias_map[alias]] = value\n\u001b[32m     76\u001b[39m \u001b[38;5;28mprint\u001b[39m(update_dict)\n\u001b[32m---> \u001b[39m\u001b[32m78\u001b[39m \u001b[43mwriter\u001b[49m\u001b[43m.\u001b[49m\u001b[43mupdate_page_form_field_values\u001b[49m\u001b[43m(\u001b[49m\u001b[43mwriter\u001b[49m\u001b[43m.\u001b[49m\u001b[43mpages\u001b[49m\u001b[43m[\u001b[49m\u001b[32;43m0\u001b[39;49m\u001b[43m]\u001b[49m\u001b[43m,\u001b[49m\u001b[43m \u001b[49m\u001b[43mupdate_dict\u001b[49m\u001b[43m)\u001b[49m\n\u001b[32m     79\u001b[39m \u001b[38;5;66;03m# Export the filled PDF\u001b[39;00m\n\u001b[32m     80\u001b[39m \u001b[38;5;28;01mwith\u001b[39;00m \u001b[38;5;28mopen\u001b[39m(\u001b[33m\"\u001b[39m\u001b[33mi-589-filled-example.pdf\u001b[39m\u001b[33m\"\u001b[39m, \u001b[33m\"\u001b[39m\u001b[33mwb\u001b[39m\u001b[33m\"\u001b[39m) \u001b[38;5;28;01mas\u001b[39;00m output_file:\n",
      "\u001b[36mFile \u001b[39m\u001b[32m~/Desktop/smartmigrate/sm/lib/python3.13/site-packages/pypdf/_writer.py:1178\u001b[39m, in \u001b[36mPdfWriter.update_page_form_field_values\u001b[39m\u001b[34m(self, page, fields, flags, auto_regenerate, flatten)\u001b[39m\n\u001b[32m   1174\u001b[39m         \u001b[38;5;28mself\u001b[39m._update_field_annotation(\n\u001b[32m   1175\u001b[39m             page, parent_annotation, annotation, value[\u001b[32m1\u001b[39m], value[\u001b[32m2\u001b[39m], flatten=flatten\n\u001b[32m   1176\u001b[39m         )\n\u001b[32m   1177\u001b[39m     \u001b[38;5;28;01melse\u001b[39;00m:\n\u001b[32m-> \u001b[39m\u001b[32m1178\u001b[39m         \u001b[38;5;28;43mself\u001b[39;49m\u001b[43m.\u001b[49m\u001b[43m_update_field_annotation\u001b[49m\u001b[43m(\u001b[49m\u001b[43mpage\u001b[49m\u001b[43m,\u001b[49m\u001b[43m \u001b[49m\u001b[43mparent_annotation\u001b[49m\u001b[43m,\u001b[49m\u001b[43m \u001b[49m\u001b[43mannotation\u001b[49m\u001b[43m,\u001b[49m\u001b[43m \u001b[49m\u001b[43mflatten\u001b[49m\u001b[43m=\u001b[49m\u001b[43mflatten\u001b[49m\u001b[43m)\u001b[49m\n\u001b[32m   1179\u001b[39m \u001b[38;5;28;01melif\u001b[39;00m (\n\u001b[32m   1180\u001b[39m     annotation.get(FA.FT) == \u001b[33m\"\u001b[39m\u001b[33m/Sig\u001b[39m\u001b[33m\"\u001b[39m\n\u001b[32m   1181\u001b[39m ):  \u001b[38;5;66;03m# deprecated  # not implemented yet\u001b[39;00m\n\u001b[32m   1182\u001b[39m     logger_warning(\u001b[33m\"\u001b[39m\u001b[33mSignature forms not implemented yet\u001b[39m\u001b[33m\"\u001b[39m, \u001b[34m__name__\u001b[39m)\n",
      "\u001b[36mFile \u001b[39m\u001b[32m~/Desktop/smartmigrate/sm/lib/python3.13/site-packages/pypdf/_writer.py:973\u001b[39m, in \u001b[36mPdfWriter._update_field_annotation\u001b[39m\u001b[34m(self, page, field, annotation, font_name, font_size, flatten)\u001b[39m\n\u001b[32m    965\u001b[39m \u001b[38;5;28;01mif\u001b[39;00m font_name \u001b[38;5;129;01mnot\u001b[39;00m \u001b[38;5;129;01min\u001b[39;00m dr \u001b[38;5;129;01mand\u001b[39;00m font_name \u001b[38;5;129;01mnot\u001b[39;00m \u001b[38;5;129;01min\u001b[39;00m _default_fonts_space_width:\n\u001b[32m    966\u001b[39m     \u001b[38;5;66;03m# ...or AcroForm dictionary\u001b[39;00m\n\u001b[32m    967\u001b[39m     dr = cast(\n\u001b[32m    968\u001b[39m         \u001b[38;5;28mdict\u001b[39m[Any, Any],\n\u001b[32m    969\u001b[39m         cast(\n\u001b[32m    970\u001b[39m             DictionaryObject, \u001b[38;5;28mself\u001b[39m.root_object[CatalogDictionary.ACRO_FORM]\n\u001b[32m    971\u001b[39m         ).get(\u001b[33m\"\u001b[39m\u001b[33m/DR\u001b[39m\u001b[33m\"\u001b[39m, {}),\n\u001b[32m    972\u001b[39m     )\n\u001b[32m--> \u001b[39m\u001b[32m973\u001b[39m     dr = \u001b[43mdr\u001b[49m\u001b[43m.\u001b[49m\u001b[43mget_object\u001b[49m().get(\u001b[33m\"\u001b[39m\u001b[33m/Font\u001b[39m\u001b[33m\"\u001b[39m, DictionaryObject()).get_object()\n\u001b[32m    974\u001b[39m font_res = dr.get(font_name, \u001b[38;5;28;01mNone\u001b[39;00m)\n\u001b[32m    975\u001b[39m \u001b[38;5;28;01mif\u001b[39;00m \u001b[38;5;129;01mnot\u001b[39;00m is_null_or_none(font_res):\n",
      "\u001b[31mAttributeError\u001b[39m: 'dict' object has no attribute 'get_object'"
     ]
    }
   ],
   "source": [
    "# Load the mapping\n",
    "with open(\"i-589_pdf_field_mapping.json\", \"r\") as f:\n",
    "    alias_map = json.load(f)\n",
    "\n",
    "# Create example inputs for each field - manually specified dict\n",
    "example_data = {\n",
    "    \"AI_1\": \"Example_0\",\n",
    "    \"AI_2\": \"Example_1\",\n",
    "    \"AI_3\": \"Example_2\",\n",
    "    \"AI_4\": \"Example_3\",\n",
    "    \"AI_5\": \"Example_4\",\n",
    "    \"AI_6\": \"Example_5\",\n",
    "    \"AI_7\": \"Example_6\",\n",
    "    \"AI_8_street\": \"Example_7\",\n",
    "    \"AI_8_apt\": \"Example_8\",\n",
    "    \"AI_8_city\": \"Example_9\",\n",
    "    \"AI_8_zip\": \"Example_10\",\n",
    "    \"AI_8_state\": \"Example_11\",\n",
    "    \"AI_8_phone_area\": \"Example_12\",\n",
    "    \"AI_8_phone\": \"Example_13\",\n",
    "    \"AI_9_in\": \"Example_14\",\n",
    "    \"AI_9_phone_area\": \"Example_15\",\n",
    "    \"AI_9_phone\": \"Example_16\",\n",
    "    \"AI_9_street\": \"Example_17\",\n",
    "    \"AI_9_apt\": \"Example_18\",\n",
    "    \"AI_9_city\": \"Example_19\",\n",
    "    \"AI_9_state\": \"Example_20\",\n",
    "    \"AI_9_zip\": \"Example_21\",\n",
    "    \"AI_10\": \"male\",\n",
    "    \"AI_11\": \"single\",\n",
    "    \"AI_12\": \"Example_24\",\n",
    "    \"AI_13\": \"Example_25\",\n",
    "    \"AI_14\": \"Example_26\",\n",
    "    \"AI_15\": \"Example_27\",\n",
    "    \"AI_16\": \"Example_28\",\n",
    "    \"AI_17\": \"Example_29\",\n",
    "    \"AI_18\": \"a\",\n",
    "    \"AI_19_a\": \"Example_31\",\n",
    "    \"AI_19_b\": \"Example_32\",\n",
    "    \"AI_19_c_1_date\": \"Example_33\",\n",
    "    \"AI_19_c_1_place\": \"Example_34\",\n",
    "    \"AI_19_c_1_status\": \"Example_35\",\n",
    "    \"AI_19_c_1_exp\": \"Example_36\",\n",
    "    \"AI_19_c_2_date\": \"Example_37\",\n",
    "    \"AI_19_c_2_place\": \"Example_38\",\n",
    "    \"AI_19_c_2_status\": \"Example_39\",\n",
    "    \"AI_19_c_3_date\": \"Example_40\",\n",
    "    \"AI_19_c_3_place\": \"Example_41\",\n",
    "    \"AI_19_c_3_status\": \"Example_42\",\n",
    "    \"AI_20\": \"Example_43\",\n",
    "    \"AI_21_passport\": \"Example_44\",\n",
    "    \"AI_21_travel\": \"Example_45\",\n",
    "    \"AI_22\": \"Example_46\",\n",
    "    \"AI_23\": \"Example_47\",\n",
    "    \"AI_24\": \"yes\",\n",
    "    \"AI_25\": \"Example_49\"\n",
    "}\n",
    "\n",
    "# Fill out the PDF using pypdf\n",
    "from pypdf import PdfWriter\n",
    "\n",
    "# Use PdfWriter with append_pages_from_reader to preserve form structure\n",
    "writer = PdfWriter()\n",
    "writer.append(reader)\n",
    "\n",
    "# Update fields with example data\n",
    "update_dict = {}\n",
    "for alias, value in example_data.items():\n",
    "    if isinstance(alias_map[alias], dict):\n",
    "        # Handle checkbox logic\n",
    "        update_dict.update(alias_map[alias][value])\n",
    "\n",
    "    else:\n",
    "        update_dict[alias_map[alias]] = value\n",
    "\n",
    "print(update_dict)\n",
    "\n",
    "writer.update_page_form_field_values(writer.pages[0], update_dict)\n",
    "# Export the filled PDF\n",
    "with open(\"i-589-filled-example.pdf\", \"wb\") as output_file:\n",
    "    writer.write(output_file)\n",
    "\n",
    "print(\"\\nPDF filled and exported to i-589-filled-example.pdf\")\n"
   ]
  },
  {
   "cell_type": "code",
   "execution_count": null,
   "id": "4304c7d1",
   "metadata": {},
   "outputs": [],
   "source": []
  }
 ],
 "metadata": {
  "kernelspec": {
   "display_name": "sm",
   "language": "python",
   "name": "python3"
  },
  "language_info": {
   "codemirror_mode": {
    "name": "ipython",
    "version": 3
   },
   "file_extension": ".py",
   "mimetype": "text/x-python",
   "name": "python",
   "nbconvert_exporter": "python",
   "pygments_lexer": "ipython3",
   "version": "3.13.7"
  }
 },
 "nbformat": 4,
 "nbformat_minor": 5
}
